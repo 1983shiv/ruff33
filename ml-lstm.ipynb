{
 "cells": [
  {
   "cell_type": "code",
   "execution_count": 1,
   "id": "eb512e67-06cd-4039-a1e8-e16658bcb9b9",
   "metadata": {},
   "outputs": [],
   "source": [
    "### Keras and tensorflow > 2.0"
   ]
  },
  {
   "cell_type": "code",
   "execution_count": 2,
   "id": "a6319759-bd35-4eac-83d0-406621d819b0",
   "metadata": {},
   "outputs": [
    {
     "data": {
      "text/html": [
       "<div>\n",
       "<style scoped>\n",
       "    .dataframe tbody tr th:only-of-type {\n",
       "        vertical-align: middle;\n",
       "    }\n",
       "\n",
       "    .dataframe tbody tr th {\n",
       "        vertical-align: top;\n",
       "    }\n",
       "\n",
       "    .dataframe thead th {\n",
       "        text-align: right;\n",
       "    }\n",
       "</style>\n",
       "<table border=\"1\" class=\"dataframe\">\n",
       "  <thead>\n",
       "    <tr style=\"text-align: right;\">\n",
       "      <th></th>\n",
       "      <th>Unnamed: 0</th>\n",
       "      <th>symbol</th>\n",
       "      <th>date</th>\n",
       "      <th>close</th>\n",
       "      <th>high</th>\n",
       "      <th>low</th>\n",
       "      <th>open</th>\n",
       "      <th>volume</th>\n",
       "      <th>adjClose</th>\n",
       "      <th>adjHigh</th>\n",
       "      <th>adjLow</th>\n",
       "      <th>adjOpen</th>\n",
       "      <th>adjVolume</th>\n",
       "      <th>divCash</th>\n",
       "      <th>splitFactor</th>\n",
       "    </tr>\n",
       "  </thead>\n",
       "  <tbody>\n",
       "    <tr>\n",
       "      <th>0</th>\n",
       "      <td>0</td>\n",
       "      <td>AAPL</td>\n",
       "      <td>2015-05-27 00:00:00+00:00</td>\n",
       "      <td>132.045</td>\n",
       "      <td>132.260</td>\n",
       "      <td>130.05</td>\n",
       "      <td>130.34</td>\n",
       "      <td>45833246</td>\n",
       "      <td>121.682558</td>\n",
       "      <td>121.880685</td>\n",
       "      <td>119.844118</td>\n",
       "      <td>120.111360</td>\n",
       "      <td>45833246</td>\n",
       "      <td>0.0</td>\n",
       "      <td>1.0</td>\n",
       "    </tr>\n",
       "    <tr>\n",
       "      <th>1</th>\n",
       "      <td>1</td>\n",
       "      <td>AAPL</td>\n",
       "      <td>2015-05-28 00:00:00+00:00</td>\n",
       "      <td>131.780</td>\n",
       "      <td>131.950</td>\n",
       "      <td>131.10</td>\n",
       "      <td>131.86</td>\n",
       "      <td>30733309</td>\n",
       "      <td>121.438354</td>\n",
       "      <td>121.595013</td>\n",
       "      <td>120.811718</td>\n",
       "      <td>121.512076</td>\n",
       "      <td>30733309</td>\n",
       "      <td>0.0</td>\n",
       "      <td>1.0</td>\n",
       "    </tr>\n",
       "    <tr>\n",
       "      <th>2</th>\n",
       "      <td>2</td>\n",
       "      <td>AAPL</td>\n",
       "      <td>2015-05-29 00:00:00+00:00</td>\n",
       "      <td>130.280</td>\n",
       "      <td>131.450</td>\n",
       "      <td>129.90</td>\n",
       "      <td>131.23</td>\n",
       "      <td>50884452</td>\n",
       "      <td>120.056069</td>\n",
       "      <td>121.134251</td>\n",
       "      <td>119.705890</td>\n",
       "      <td>120.931516</td>\n",
       "      <td>50884452</td>\n",
       "      <td>0.0</td>\n",
       "      <td>1.0</td>\n",
       "    </tr>\n",
       "    <tr>\n",
       "      <th>3</th>\n",
       "      <td>3</td>\n",
       "      <td>AAPL</td>\n",
       "      <td>2015-06-01 00:00:00+00:00</td>\n",
       "      <td>130.535</td>\n",
       "      <td>131.390</td>\n",
       "      <td>130.05</td>\n",
       "      <td>131.20</td>\n",
       "      <td>32112797</td>\n",
       "      <td>120.291057</td>\n",
       "      <td>121.078960</td>\n",
       "      <td>119.844118</td>\n",
       "      <td>120.903870</td>\n",
       "      <td>32112797</td>\n",
       "      <td>0.0</td>\n",
       "      <td>1.0</td>\n",
       "    </tr>\n",
       "    <tr>\n",
       "      <th>4</th>\n",
       "      <td>4</td>\n",
       "      <td>AAPL</td>\n",
       "      <td>2015-06-02 00:00:00+00:00</td>\n",
       "      <td>129.960</td>\n",
       "      <td>130.655</td>\n",
       "      <td>129.32</td>\n",
       "      <td>129.86</td>\n",
       "      <td>33667627</td>\n",
       "      <td>119.761181</td>\n",
       "      <td>120.401640</td>\n",
       "      <td>119.171406</td>\n",
       "      <td>119.669029</td>\n",
       "      <td>33667627</td>\n",
       "      <td>0.0</td>\n",
       "      <td>1.0</td>\n",
       "    </tr>\n",
       "  </tbody>\n",
       "</table>\n",
       "</div>"
      ],
      "text/plain": [
       "   Unnamed: 0 symbol                       date    close     high     low  \\\n",
       "0           0   AAPL  2015-05-27 00:00:00+00:00  132.045  132.260  130.05   \n",
       "1           1   AAPL  2015-05-28 00:00:00+00:00  131.780  131.950  131.10   \n",
       "2           2   AAPL  2015-05-29 00:00:00+00:00  130.280  131.450  129.90   \n",
       "3           3   AAPL  2015-06-01 00:00:00+00:00  130.535  131.390  130.05   \n",
       "4           4   AAPL  2015-06-02 00:00:00+00:00  129.960  130.655  129.32   \n",
       "\n",
       "     open    volume    adjClose     adjHigh      adjLow     adjOpen  \\\n",
       "0  130.34  45833246  121.682558  121.880685  119.844118  120.111360   \n",
       "1  131.86  30733309  121.438354  121.595013  120.811718  121.512076   \n",
       "2  131.23  50884452  120.056069  121.134251  119.705890  120.931516   \n",
       "3  131.20  32112797  120.291057  121.078960  119.844118  120.903870   \n",
       "4  129.86  33667627  119.761181  120.401640  119.171406  119.669029   \n",
       "\n",
       "   adjVolume  divCash  splitFactor  \n",
       "0   45833246      0.0          1.0  \n",
       "1   30733309      0.0          1.0  \n",
       "2   50884452      0.0          1.0  \n",
       "3   32112797      0.0          1.0  \n",
       "4   33667627      0.0          1.0  "
      ]
     },
     "execution_count": 2,
     "metadata": {},
     "output_type": "execute_result"
    }
   ],
   "source": [
    "import pandas as pd\n",
    "import numpy as np\n",
    "import matplotlib.pyplot as plt\n",
    "\n",
    "data = pd.read_csv('AAPL.csv')\n",
    "data.head()"
   ]
  },
  {
   "cell_type": "code",
   "execution_count": 3,
   "id": "c6424632-845d-4d43-96f6-a8d27bb9c0fe",
   "metadata": {},
   "outputs": [
    {
     "data": {
      "text/plain": [
       "0       132.045\n",
       "1       131.780\n",
       "2       130.280\n",
       "3       130.535\n",
       "4       129.960\n",
       "         ...   \n",
       "1253    314.960\n",
       "1254    313.140\n",
       "1255    319.230\n",
       "1256    316.850\n",
       "1257    318.890\n",
       "Name: close, Length: 1258, dtype: float64"
      ]
     },
     "execution_count": 3,
     "metadata": {},
     "output_type": "execute_result"
    }
   ],
   "source": [
    "df1 = data.reset_index()['close']\n",
    "df1"
   ]
  },
  {
   "cell_type": "code",
   "execution_count": 4,
   "id": "0fae342f-0bac-443f-8712-45fbd7cdb221",
   "metadata": {},
   "outputs": [
    {
     "data": {
      "text/plain": [
       "[<matplotlib.lines.Line2D at 0x7f6dfd58be80>]"
      ]
     },
     "execution_count": 4,
     "metadata": {},
     "output_type": "execute_result"
    },
    {
     "data": {
      "image/png": "[encoded data removed]",
      "text/plain": [
       "<Figure size 640x480 with 1 Axes>"
      ]
     },
     "metadata": {},
     "output_type": "display_data"
    }
   ],
   "source": [
    "plt.plot(df1)"
   ]
  },
  {
   "cell_type": "code",
   "execution_count": 5,
   "id": "10161fad-c985-4a81-9c7f-e0dca8d4e5a1",
   "metadata": {},
   "outputs": [],
   "source": [
    "from sklearn.preprocessing import MinMaxScaler\n",
    "scaler = MinMaxScaler(feature_range=(0,1))\n",
    "df2 = scaler.fit_transform(np.array(df1).reshape(-1,1))"
   ]
  },
  {
   "cell_type": "code",
   "execution_count": 6,
   "id": "8ff5a0a1-7e15-4057-9b96-aef3d6ac9488",
   "metadata": {},
   "outputs": [
    {
     "data": {
      "text/plain": [
       "array([[0.17607447],\n",
       "       [0.17495567],\n",
       "       [0.16862282],\n",
       "       ...,\n",
       "       [0.96635143],\n",
       "       [0.9563033 ],\n",
       "       [0.96491598]])"
      ]
     },
     "execution_count": 6,
     "metadata": {},
     "output_type": "execute_result"
    }
   ],
   "source": [
    "df2"
   ]
  },
  {
   "cell_type": "code",
   "execution_count": 7,
   "id": "087e1e28-e866-412d-b5ba-189a7d2c43c2",
   "metadata": {},
   "outputs": [
    {
     "data": {
      "text/plain": [
       "(1258, 1)"
      ]
     },
     "execution_count": 7,
     "metadata": {},
     "output_type": "execute_result"
    }
   ],
   "source": [
    "df2.shape"
   ]
  },
  {
   "cell_type": "code",
   "execution_count": 8,
   "id": "5b897078-be30-4825-b6d3-66da86767771",
   "metadata": {},
   "outputs": [
    {
     "name": "stdout",
     "output_type": "stream",
     "text": [
      "training size: 817, and test size : 441\n"
     ]
    }
   ],
   "source": [
    "#  spliting dataset into train and test data sizes\n",
    "training_size = int(len(df2)*0.65)\n",
    "test_size = len(df2) - training_size\n",
    "print(f'training size: {training_size}, and test size : {test_size}')\n",
    "train_data, test_data = df2[0:training_size], df2[training_size:len(df2), : 1]\n",
    "# print(f'training data: {train_data}, and test data : {test_data}')"
   ]
  },
  {
   "cell_type": "code",
   "execution_count": 9,
   "id": "b99a7147-6867-4547-8254-0b640e016b9a",
   "metadata": {},
   "outputs": [],
   "source": [
    "# convert an array of values into a dataset matrix\n",
    "def create_dataset(dataset, time_step=1):\n",
    "    dataX, dataY = [], []\n",
    "    for i in range(len(dataset)-time_step-1):\n",
    "        a = dataset[i:(i+time_step),0]\n",
    "        dataX.append(a)\n",
    "        dataY.append(dataset[i + time_step, 0])\n",
    "    return np.array(dataX), np.array(dataY)"
   ]
  },
  {
   "cell_type": "code",
   "execution_count": 10,
   "id": "4b62dea1-3770-4be3-aa21-b80220501d76",
   "metadata": {},
   "outputs": [],
   "source": [
    "time_step = 100\n",
    "X_train, y_train = create_dataset(train_data, time_step)\n",
    "X_test, y_test = create_dataset(test_data, time_step)"
   ]
  },
  {
   "cell_type": "code",
   "execution_count": 11,
   "id": "846dafeb-9f6b-4a4c-a7b7-7da839953df9",
   "metadata": {},
   "outputs": [
    {
     "data": {
      "text/plain": [
       "((716, 100), (716,))"
      ]
     },
     "execution_count": 11,
     "metadata": {},
     "output_type": "execute_result"
    }
   ],
   "source": [
    "X_train.shape, y_train.shape"
   ]
  },
  {
   "cell_type": "code",
   "execution_count": 12,
   "id": "816dc99d-e78f-49b1-84d1-3d94e42d0c35",
   "metadata": {},
   "outputs": [
    {
     "data": {
      "text/plain": [
       "((340, 100), (340,))"
      ]
     },
     "execution_count": 12,
     "metadata": {},
     "output_type": "execute_result"
    }
   ],
   "source": [
    "X_test.shape, y_test.shape"
   ]
  },
  {
   "cell_type": "code",
   "execution_count": 13,
   "id": "90dc4652-1925-4ad3-b325-01f72c4132ee",
   "metadata": {},
   "outputs": [],
   "source": [
    "# reshape input to be [samples, time steps, features] which is required for LSTM\n",
    "X_train = X_train.reshape(X_train.shape[0], X_train.shape[1], 1)\n",
    "X_test = X_test.reshape(X_test.shape[0], X_test.shape[1], 1)"
   ]
  },
  {
   "cell_type": "code",
   "execution_count": 14,
   "id": "8bef2323-00d2-4d3e-beab-725ac98e0656",
   "metadata": {},
   "outputs": [
    {
     "data": {
      "text/plain": [
       "((716, 100, 1), (340, 100, 1))"
      ]
     },
     "execution_count": 14,
     "metadata": {},
     "output_type": "execute_result"
    }
   ],
   "source": [
    "X_train.shape, X_test.shape"
   ]
  },
  {
   "cell_type": "code",
   "execution_count": 15,
   "id": "c45bc9ff-84a1-4609-b096-af91256fe95a",
   "metadata": {},
   "outputs": [
    {
     "name": "stderr",
     "output_type": "stream",
     "text": [
      "2024-01-26 04:20:31.580729: I external/local_tsl/tsl/cuda/cudart_stub.cc:31] Could not find cuda drivers on your machine, GPU will not be used.\n",
      "2024-01-26 04:20:33.773865: E external/local_xla/xla/stream_executor/cuda/cuda_dnn.cc:9261] Unable to register cuDNN factory: Attempting to register factory for plugin cuDNN when one has already been registered\n",
      "2024-01-26 04:20:33.773950: E external/local_xla/xla/stream_executor/cuda/cuda_fft.cc:607] Unable to register cuFFT factory: Attempting to register factory for plugin cuFFT when one has already been registered\n",
      "2024-01-26 04:20:34.104806: E external/local_xla/xla/stream_executor/cuda/cuda_blas.cc:1515] Unable to register cuBLAS factory: Attempting to register factory for plugin cuBLAS when one has already been registered\n",
      "2024-01-26 04:20:34.821843: I external/local_tsl/tsl/cuda/cudart_stub.cc:31] Could not find cuda drivers on your machine, GPU will not be used.\n",
      "2024-01-26 04:20:34.823704: I tensorflow/core/platform/cpu_feature_guard.cc:182] This TensorFlow binary is optimized to use available CPU instructions in performance-critical operations.\n",
      "To enable the following instructions: AVX2 FMA, in other operations, rebuild TensorFlow with the appropriate compiler flags.\n",
      "2024-01-26 04:20:38.242697: W tensorflow/compiler/tf2tensorrt/utils/py_utils.cc:38] TF-TRT Warning: Could not find TensorRT\n"
     ]
    }
   ],
   "source": [
    "# Create the LSTM model\n",
    "from tensorflow.keras.models import Sequential\n",
    "from tensorflow.keras.layers import Dense\n",
    "from tensorflow.keras.layers import LSTM"
   ]
  },
  {
   "cell_type": "code",
   "execution_count": 16,
   "id": "96f23800-a9cc-4676-88ee-8d710ee90a11",
   "metadata": {},
   "outputs": [],
   "source": [
    "model=Sequential()\n",
    "model.add(LSTM(50, return_sequences=True, input_shape=(100,1)))\n",
    "model.add(LSTM(50, return_sequences=True))\n",
    "model.add(LSTM(50))\n",
    "model.add(Dense(1))\n",
    "model.compile(loss='mean_squared_error', optimizer='adam')"
   ]
  },
  {
   "cell_type": "code",
   "execution_count": 17,
   "id": "02d1827b-ea87-4efd-bf9a-6b9f2854ca5c",
   "metadata": {},
   "outputs": [
    {
     "name": "stdout",
     "output_type": "stream",
     "text": [
      "Model: \"sequential\"\n",
      "_________________________________________________________________\n",
      " Layer (type)                Output Shape              Param #   \n",
      "=================================================================\n",
      " lstm (LSTM)                 (None, 100, 50)           10400     \n",
      "                                                                 \n",
      " lstm_1 (LSTM)               (None, 100, 50)           20200     \n",
      "                                                                 \n",
      " lstm_2 (LSTM)               (None, 50)                20200     \n",
      "                                                                 \n",
      " dense (Dense)               (None, 1)                 51        \n",
      "                                                                 \n",
      "=================================================================\n",
      "Total params: 50851 (198.64 KB)\n",
      "Trainable params: 50851 (198.64 KB)\n",
      "Non-trainable params: 0 (0.00 Byte)\n",
      "_________________________________________________________________\n"
     ]
    }
   ],
   "source": [
    "model.summary()"
   ]
  },
  {
   "cell_type": "code",
   "execution_count": 18,
   "id": "92bd0377-a077-4a9d-9b72-85fc6a5c3449",
   "metadata": {},
   "outputs": [
    {
     "name": "stdout",
     "output_type": "stream",
     "text": [
      "Epoch 1/100\n",
      "12/12 [==============================] - 5s 147ms/step - loss: 0.0147 - val_loss: 0.0573\n",
      "Epoch 2/100\n",
      "12/12 [==============================] - 1s 82ms/step - loss: 0.0025 - val_loss: 0.0050\n",
      "Epoch 3/100\n",
      "12/12 [==============================] - 1s 82ms/step - loss: 9.3101e-04 - val_loss: 0.0059\n",
      "Epoch 4/100\n",
      "12/12 [==============================] - 1s 82ms/step - loss: 8.0059e-04 - val_loss: 0.0040\n",
      "Epoch 5/100\n",
      "12/12 [==============================] - 1s 82ms/step - loss: 6.9468e-04 - val_loss: 0.0038\n",
      "Epoch 6/100\n",
      "12/12 [==============================] - 1s 82ms/step - loss: 6.5753e-04 - val_loss: 0.0038\n",
      "Epoch 7/100\n",
      "12/12 [==============================] - 1s 82ms/step - loss: 6.2176e-04 - val_loss: 0.0038\n",
      "Epoch 8/100\n",
      "12/12 [==============================] - 1s 82ms/step - loss: 6.8203e-04 - val_loss: 0.0043\n",
      "Epoch 9/100\n",
      "12/12 [==============================] - 1s 82ms/step - loss: 6.4436e-04 - val_loss: 0.0040\n",
      "Epoch 10/100\n",
      "12/12 [==============================] - 1s 85ms/step - loss: 5.8183e-04 - val_loss: 0.0039\n",
      "Epoch 11/100\n",
      "12/12 [==============================] - 1s 82ms/step - loss: 5.9045e-04 - val_loss: 0.0037\n",
      "Epoch 12/100\n",
      "12/12 [==============================] - 1s 82ms/step - loss: 5.5793e-04 - val_loss: 0.0040\n",
      "Epoch 13/100\n",
      "12/12 [==============================] - 1s 82ms/step - loss: 5.8034e-04 - val_loss: 0.0035\n",
      "Epoch 14/100\n",
      "12/12 [==============================] - 1s 81ms/step - loss: 5.5016e-04 - val_loss: 0.0047\n",
      "Epoch 15/100\n",
      "12/12 [==============================] - 1s 82ms/step - loss: 6.3088e-04 - val_loss: 0.0030\n",
      "Epoch 16/100\n",
      "12/12 [==============================] - 1s 83ms/step - loss: 5.3958e-04 - val_loss: 0.0028\n",
      "Epoch 17/100\n",
      "12/12 [==============================] - 1s 82ms/step - loss: 4.9832e-04 - val_loss: 0.0028\n",
      "Epoch 18/100\n",
      "12/12 [==============================] - 1s 82ms/step - loss: 4.9520e-04 - val_loss: 0.0027\n",
      "Epoch 19/100\n",
      "12/12 [==============================] - 1s 83ms/step - loss: 5.1902e-04 - val_loss: 0.0026\n",
      "Epoch 20/100\n",
      "12/12 [==============================] - 1s 86ms/step - loss: 5.4486e-04 - val_loss: 0.0028\n",
      "Epoch 21/100\n",
      "12/12 [==============================] - 1s 82ms/step - loss: 4.8300e-04 - val_loss: 0.0023\n",
      "Epoch 22/100\n",
      "12/12 [==============================] - 1s 82ms/step - loss: 4.8068e-04 - val_loss: 0.0026\n",
      "Epoch 23/100\n",
      "12/12 [==============================] - 1s 82ms/step - loss: 5.0230e-04 - val_loss: 0.0021\n",
      "Epoch 24/100\n",
      "12/12 [==============================] - 1s 82ms/step - loss: 4.3851e-04 - val_loss: 0.0019\n",
      "Epoch 25/100\n",
      "12/12 [==============================] - 1s 82ms/step - loss: 4.4022e-04 - val_loss: 0.0022\n",
      "Epoch 26/100\n",
      "12/12 [==============================] - 1s 82ms/step - loss: 4.0181e-04 - val_loss: 0.0021\n",
      "Epoch 27/100\n",
      "12/12 [==============================] - 1s 82ms/step - loss: 3.8965e-04 - val_loss: 0.0023\n",
      "Epoch 28/100\n",
      "12/12 [==============================] - 1s 83ms/step - loss: 3.8426e-04 - val_loss: 0.0020\n",
      "Epoch 29/100\n",
      "12/12 [==============================] - 1s 83ms/step - loss: 3.6521e-04 - val_loss: 0.0017\n",
      "Epoch 30/100\n",
      "12/12 [==============================] - 1s 84ms/step - loss: 3.5466e-04 - val_loss: 0.0015\n",
      "Epoch 31/100\n",
      "12/12 [==============================] - 1s 83ms/step - loss: 3.5789e-04 - val_loss: 0.0024\n",
      "Epoch 32/100\n",
      "12/12 [==============================] - 1s 82ms/step - loss: 3.3057e-04 - val_loss: 0.0021\n",
      "Epoch 33/100\n",
      "12/12 [==============================] - 1s 83ms/step - loss: 3.2774e-04 - val_loss: 0.0018\n",
      "Epoch 34/100\n",
      "12/12 [==============================] - 1s 83ms/step - loss: 3.1959e-04 - val_loss: 0.0034\n",
      "Epoch 35/100\n",
      "12/12 [==============================] - 1s 82ms/step - loss: 3.7811e-04 - val_loss: 0.0016\n",
      "Epoch 36/100\n",
      "12/12 [==============================] - 1s 82ms/step - loss: 3.6195e-04 - val_loss: 0.0029\n",
      "Epoch 37/100\n",
      "12/12 [==============================] - 1s 82ms/step - loss: 3.7356e-04 - val_loss: 0.0015\n",
      "Epoch 38/100\n",
      "12/12 [==============================] - 1s 82ms/step - loss: 3.0839e-04 - val_loss: 0.0021\n",
      "Epoch 39/100\n",
      "12/12 [==============================] - 1s 82ms/step - loss: 2.9978e-04 - val_loss: 0.0019\n",
      "Epoch 40/100\n",
      "12/12 [==============================] - 1s 83ms/step - loss: 2.8141e-04 - val_loss: 0.0020\n",
      "Epoch 41/100\n",
      "12/12 [==============================] - 1s 85ms/step - loss: 2.6416e-04 - val_loss: 0.0015\n",
      "Epoch 42/100\n",
      "12/12 [==============================] - 1s 82ms/step - loss: 2.7574e-04 - val_loss: 0.0017\n",
      "Epoch 43/100\n",
      "12/12 [==============================] - 1s 82ms/step - loss: 2.7706e-04 - val_loss: 0.0021\n",
      "Epoch 44/100\n",
      "12/12 [==============================] - 1s 82ms/step - loss: 3.4899e-04 - val_loss: 0.0047\n",
      "Epoch 45/100\n",
      "12/12 [==============================] - 1s 82ms/step - loss: 3.0052e-04 - val_loss: 0.0013\n",
      "Epoch 46/100\n",
      "12/12 [==============================] - 1s 81ms/step - loss: 2.6946e-04 - val_loss: 0.0023\n",
      "Epoch 47/100\n",
      "12/12 [==============================] - 1s 83ms/step - loss: 2.6851e-04 - val_loss: 0.0015\n",
      "Epoch 48/100\n",
      "12/12 [==============================] - 1s 83ms/step - loss: 2.5416e-04 - val_loss: 0.0013\n",
      "Epoch 49/100\n",
      "12/12 [==============================] - 1s 82ms/step - loss: 2.1395e-04 - val_loss: 0.0018\n",
      "Epoch 50/100\n",
      "12/12 [==============================] - 1s 82ms/step - loss: 2.1114e-04 - val_loss: 0.0012\n",
      "Epoch 51/100\n",
      "12/12 [==============================] - 1s 85ms/step - loss: 2.0241e-04 - val_loss: 0.0026\n",
      "Epoch 52/100\n",
      "12/12 [==============================] - 1s 82ms/step - loss: 2.4597e-04 - val_loss: 0.0014\n",
      "Epoch 53/100\n",
      "12/12 [==============================] - 1s 82ms/step - loss: 1.8772e-04 - val_loss: 0.0017\n",
      "Epoch 54/100\n",
      "12/12 [==============================] - 1s 82ms/step - loss: 1.9837e-04 - val_loss: 0.0016\n",
      "Epoch 55/100\n",
      "12/12 [==============================] - 1s 83ms/step - loss: 3.0538e-04 - val_loss: 0.0031\n",
      "Epoch 56/100\n",
      "12/12 [==============================] - 1s 82ms/step - loss: 2.2056e-04 - val_loss: 0.0011\n",
      "Epoch 57/100\n",
      "12/12 [==============================] - 1s 83ms/step - loss: 2.0099e-04 - val_loss: 0.0013\n",
      "Epoch 58/100\n",
      "12/12 [==============================] - 1s 82ms/step - loss: 1.8054e-04 - val_loss: 0.0014\n",
      "Epoch 59/100\n",
      "12/12 [==============================] - 1s 82ms/step - loss: 1.7620e-04 - val_loss: 0.0012\n",
      "Epoch 60/100\n",
      "12/12 [==============================] - 1s 82ms/step - loss: 1.6554e-04 - val_loss: 0.0013\n",
      "Epoch 61/100\n",
      "12/12 [==============================] - 1s 82ms/step - loss: 1.9338e-04 - val_loss: 0.0014\n",
      "Epoch 62/100\n",
      "12/12 [==============================] - 1s 84ms/step - loss: 1.6298e-04 - val_loss: 9.7570e-04\n",
      "Epoch 63/100\n",
      "12/12 [==============================] - 1s 83ms/step - loss: 1.7479e-04 - val_loss: 0.0015\n",
      "Epoch 64/100\n",
      "12/12 [==============================] - 1s 82ms/step - loss: 1.8574e-04 - val_loss: 0.0013\n",
      "Epoch 65/100\n",
      "12/12 [==============================] - 1s 83ms/step - loss: 1.7537e-04 - val_loss: 9.9582e-04\n",
      "Epoch 66/100\n",
      "12/12 [==============================] - 1s 81ms/step - loss: 1.6216e-04 - val_loss: 0.0014\n",
      "Epoch 67/100\n",
      "12/12 [==============================] - 1s 82ms/step - loss: 1.5235e-04 - val_loss: 8.9437e-04\n",
      "Epoch 68/100\n",
      "12/12 [==============================] - 1s 82ms/step - loss: 1.5516e-04 - val_loss: 8.9048e-04\n",
      "Epoch 69/100\n",
      "12/12 [==============================] - 1s 83ms/step - loss: 1.5145e-04 - val_loss: 8.6901e-04\n",
      "Epoch 70/100\n",
      "12/12 [==============================] - 1s 82ms/step - loss: 1.5047e-04 - val_loss: 8.7506e-04\n",
      "Epoch 71/100\n",
      "12/12 [==============================] - 1s 83ms/step - loss: 1.4304e-04 - val_loss: 9.1939e-04\n",
      "Epoch 72/100\n",
      "12/12 [==============================] - 1s 86ms/step - loss: 1.4170e-04 - val_loss: 8.7666e-04\n",
      "Epoch 73/100\n",
      "12/12 [==============================] - 1s 83ms/step - loss: 1.4110e-04 - val_loss: 0.0013\n",
      "Epoch 74/100\n",
      "12/12 [==============================] - 1s 82ms/step - loss: 1.6056e-04 - val_loss: 0.0017\n",
      "Epoch 75/100\n",
      "12/12 [==============================] - 1s 82ms/step - loss: 1.6252e-04 - val_loss: 0.0017\n",
      "Epoch 76/100\n",
      "12/12 [==============================] - 1s 83ms/step - loss: 1.9631e-04 - val_loss: 9.6040e-04\n",
      "Epoch 77/100\n",
      "12/12 [==============================] - 1s 81ms/step - loss: 1.5789e-04 - val_loss: 9.0175e-04\n",
      "Epoch 78/100\n",
      "12/12 [==============================] - 1s 83ms/step - loss: 1.5929e-04 - val_loss: 0.0015\n",
      "Epoch 79/100\n",
      "12/12 [==============================] - 1s 82ms/step - loss: 2.1196e-04 - val_loss: 0.0011\n",
      "Epoch 80/100\n",
      "12/12 [==============================] - 1s 82ms/step - loss: 1.3806e-04 - val_loss: 8.9818e-04\n",
      "Epoch 81/100\n",
      "12/12 [==============================] - 1s 83ms/step - loss: 1.3243e-04 - val_loss: 0.0012\n",
      "Epoch 82/100\n",
      "12/12 [==============================] - 1s 85ms/step - loss: 1.3495e-04 - val_loss: 8.1189e-04\n",
      "Epoch 83/100\n",
      "12/12 [==============================] - 1s 82ms/step - loss: 1.4931e-04 - val_loss: 9.9794e-04\n",
      "Epoch 84/100\n",
      "12/12 [==============================] - 1s 83ms/step - loss: 1.4264e-04 - val_loss: 0.0015\n",
      "Epoch 85/100\n",
      "12/12 [==============================] - 1s 82ms/step - loss: 1.6038e-04 - val_loss: 0.0012\n",
      "Epoch 86/100\n",
      "12/12 [==============================] - 1s 82ms/step - loss: 1.5552e-04 - val_loss: 7.8657e-04\n",
      "Epoch 87/100\n",
      "12/12 [==============================] - 1s 81ms/step - loss: 1.2807e-04 - val_loss: 9.7453e-04\n",
      "Epoch 88/100\n",
      "12/12 [==============================] - 1s 82ms/step - loss: 1.3403e-04 - val_loss: 0.0012\n",
      "Epoch 89/100\n",
      "12/12 [==============================] - 1s 81ms/step - loss: 1.6479e-04 - val_loss: 9.4399e-04\n",
      "Epoch 90/100\n",
      "12/12 [==============================] - 1s 83ms/step - loss: 1.4470e-04 - val_loss: 0.0011\n",
      "Epoch 91/100\n",
      "12/12 [==============================] - 1s 83ms/step - loss: 1.2353e-04 - val_loss: 0.0011\n",
      "Epoch 92/100\n",
      "12/12 [==============================] - 1s 82ms/step - loss: 1.4628e-04 - val_loss: 7.7771e-04\n",
      "Epoch 93/100\n",
      "12/12 [==============================] - 1s 86ms/step - loss: 1.2263e-04 - val_loss: 7.9337e-04\n",
      "Epoch 94/100\n",
      "12/12 [==============================] - 1s 82ms/step - loss: 1.3470e-04 - val_loss: 8.5482e-04\n",
      "Epoch 95/100\n",
      "12/12 [==============================] - 1s 82ms/step - loss: 1.2083e-04 - val_loss: 7.7975e-04\n",
      "Epoch 96/100\n",
      "12/12 [==============================] - 1s 82ms/step - loss: 1.4497e-04 - val_loss: 0.0010\n",
      "Epoch 97/100\n",
      "12/12 [==============================] - 1s 82ms/step - loss: 1.5270e-04 - val_loss: 0.0018\n",
      "Epoch 98/100\n",
      "12/12 [==============================] - 1s 81ms/step - loss: 1.6409e-04 - val_loss: 7.7285e-04\n",
      "Epoch 99/100\n",
      "12/12 [==============================] - 1s 82ms/step - loss: 1.3853e-04 - val_loss: 8.4098e-04\n",
      "Epoch 100/100\n",
      "12/12 [==============================] - 1s 82ms/step - loss: 1.2874e-04 - val_loss: 9.0395e-04\n"
     ]
    },
    {
     "data": {
      "text/plain": [
       "<keras.src.callbacks.History at 0x7f6dac7a3310>"
      ]
     },
     "execution_count": 18,
     "metadata": {},
     "output_type": "execute_result"
    }
   ],
   "source": [
    "model.fit(X_train, y_train, validation_data=(X_test, y_test), epochs=100, batch_size=64, verbose=1)"
   ]
  },
  {
   "cell_type": "code",
   "execution_count": 19,
   "id": "cb6fe906-e78e-4b58-a642-3acf03db6399",
   "metadata": {},
   "outputs": [
    {
     "data": {
      "text/plain": [
       "'2.15.0'"
      ]
     },
     "execution_count": 19,
     "metadata": {},
     "output_type": "execute_result"
    }
   ],
   "source": [
    "import tensorflow as tf\n",
    "tf.__version__"
   ]
  },
  {
   "cell_type": "code",
   "execution_count": 20,
   "id": "70c1a6f3-4421-44e8-9a5c-bec2804c1013",
   "metadata": {},
   "outputs": [
    {
     "name": "stdout",
     "output_type": "stream",
     "text": [
      "23/23 [==============================] - 1s 17ms/step\n",
      "11/11 [==============================] - 0s 17ms/step\n"
     ]
    }
   ],
   "source": [
    "# Lets Do the prediction and check the performance metrics\n",
    "train_predict = model.predict(X_train)\n",
    "test_predict = model.predict(X_test)"
   ]
  },
  {
   "cell_type": "code",
   "execution_count": 21,
   "id": "9672553f-9f39-4f0f-9f93-fd1e7624d893",
   "metadata": {},
   "outputs": [],
   "source": [
    "# Transform back to original form\n",
    "train_predict = scaler.inverse_transform(train_predict)\n",
    "test_predict = scaler.inverse_transform(test_predict)"
   ]
  },
  {
   "cell_type": "code",
   "execution_count": 22,
   "id": "7e19ccea-87de-440c-9c5d-b6e1d94c6075",
   "metadata": {},
   "outputs": [],
   "source": [
    "# Calculate RMSE performance metrics\n",
    "import math"
   ]
  },
  {
   "cell_type": "code",
   "execution_count": 23,
   "id": "e0e3c9bf-b558-43f1-89a4-1a9db721d281",
   "metadata": {},
   "outputs": [
    {
     "data": {
      "text/plain": [
       "141.1963999777771"
      ]
     },
     "execution_count": 23,
     "metadata": {},
     "output_type": "execute_result"
    }
   ],
   "source": [
    "from sklearn.metrics import mean_squared_error\n",
    "math.sqrt(mean_squared_error(y_train, train_predict))"
   ]
  },
  {
   "cell_type": "code",
   "execution_count": 24,
   "id": "2b059b60-bf92-42fb-9836-05f20b27f43a",
   "metadata": {},
   "outputs": [
    {
     "data": {
      "text/plain": [
       "235.08924990574528"
      ]
     },
     "execution_count": 24,
     "metadata": {},
     "output_type": "execute_result"
    }
   ],
   "source": [
    "# Test Data RMSE performance metrics\n",
    "math.sqrt(mean_squared_error(y_test, test_predict))"
   ]
  },
  {
   "cell_type": "code",
   "execution_count": 25,
   "id": "761b1d94-3354-4f63-b253-8faf797d4391",
   "metadata": {},
   "outputs": [
    {
     "data": {
      "text/plain": [
       "[<matplotlib.lines.Line2D at 0x7f6d976b3c10>]"
      ]
     },
     "execution_count": 25,
     "metadata": {},
     "output_type": "execute_result"
    },
    {
     "data": {
      "image/png": "[encoded data removed]",
      "text/plain": [
       "<Figure size 640x480 with 1 Axes>"
      ]
     },
     "metadata": {},
     "output_type": "display_data"
    }
   ],
   "source": [
    "# ## platting results\n",
    "# Shift train predictions for plotting\n",
    "\n",
    "look_back = 100\n",
    "trainPredictPlot = np.empty_like(df2)\n",
    "trainPredictPlot[:,:] = np.nan\n",
    "trainPredictPlot[look_back:len(train_predict)+look_back, :] = train_predict\n",
    "# trainPredictPlot\n",
    "\n",
    "# Shift test predictions for plotting\n",
    "testPredictPlot = np.empty_like(df2)\n",
    "testPredictPlot[:, :] = np.nan\n",
    "# testPredictPlot[look_back:len(test_predict)+look_back, :] = test_predict\n",
    "testPredictPlot[len(train_predict)+(look_back*2)+1:len(df2)-1, :] = test_predict\n",
    "testPredictPlot\n",
    "\n",
    "# plot baseline and predictions\n",
    "plt.plot(scaler.inverse_transform(df2))\n",
    "plt.plot(trainPredictPlot)\n",
    "plt.plot(testPredictPlot)\n",
    "# plt.show()"
   ]
  },
  {
   "cell_type": "code",
   "execution_count": 43,
   "id": "d1a4dbee-4e47-4e57-8978-5fea888f5aea",
   "metadata": {},
   "outputs": [
    {
     "name": "stdout",
     "output_type": "stream",
     "text": [
      "trainPredictPlot[100:816, :]\n",
      "testPredictPlot[917:1257]\n"
     ]
    }
   ],
   "source": [
    "# calculation of data from where we pick\n",
    "print(f'trainPredictPlot[{look_back}:{len(train_predict)+look_back}, :]')\n",
    "print(f'testPredictPlot[{len(train_predict)+(look_back*2)+1}:{len(df2)-1}]')"
   ]
  },
  {
   "cell_type": "code",
   "execution_count": 26,
   "id": "2d3c3eef-90d4-4daf-bb46-e9591ffb91bc",
   "metadata": {},
   "outputs": [
    {
     "data": {
      "text/plain": [
       "441"
      ]
     },
     "execution_count": 26,
     "metadata": {},
     "output_type": "execute_result"
    }
   ],
   "source": [
    "# predict the future value of 30 days using this test data predicts\n",
    "len(test_data)"
   ]
  },
  {
   "cell_type": "code",
   "execution_count": 30,
   "id": "6d691818-093a-4dda-993c-9380a5d504ac",
   "metadata": {},
   "outputs": [],
   "source": [
    "# x_input = test_data[341:].reshape(1,-1)\n",
    "# x_input.shape"
   ]
  },
  {
   "cell_type": "code",
   "execution_count": 31,
   "id": "fe4f6907-71b5-4ccb-b57d-d80cc41107c6",
   "metadata": {},
   "outputs": [],
   "source": [
    "temp_input=list(x_input)\n",
    "temp_input=temp_input[0].tolist()"
   ]
  },
  {
   "cell_type": "code",
   "execution_count": 33,
   "id": "fb743ea4-80c4-43a2-9bf1-21df36055e7b",
   "metadata": {},
   "outputs": [],
   "source": [
    "# temp_input"
   ]
  },
  {
   "cell_type": "code",
   "execution_count": 28,
   "id": "43748266-8a4e-4f87-b848-5c7a1d2e7c3f",
   "metadata": {},
   "outputs": [],
   "source": [
    "# demonstration of prediction for next 30 days\n",
    "from numpy import array\n",
    "\n",
    "lst_output = []\n",
    "n_steps = 100\n",
    "i=0\n"
   ]
  },
  {
   "cell_type": "code",
   "execution_count": 36,
   "id": "35fb00e8-53ac-4435-90b2-eba0d15b7a12",
   "metadata": {},
   "outputs": [],
   "source": [
    "while(i<30):\n",
    "    if(len(temp_input)>100):\n",
    "        # print temp_input\n",
    "        x_input = np.array(temp_input[1:])\n",
    "        print (\"{} day input {}\".format(i, x_input))\n",
    "        x_input = x_input.reshape(1,-1)\n",
    "        x_input = x_input.reshape((1, n_steps, 1))\n",
    "        # print(x_input)\n",
    "        yhat = model.predict(x_input, verbose=0)\n",
    "        print (\"{} day output {}\".format(i, yhat))\n",
    "        temp_input.extend(yhat[0].tolist())\n",
    "        temp_input=temp_input[1:]\n",
    "        # print (temp_input)\n",
    "        lst_output.extend(yhat.tolist())\n",
    "        i=i+1\n",
    "    else:\n",
    "        x_input = x_input.reshape((1, n_steps, 1))\n",
    "        yhat = model.predict(x_input, verbose=0)\n",
    "        print(yhat[0])\n",
    "        temp_input.extend(yhat[0].tolist())\n",
    "        print(len(temp_input))\n",
    "        lst_output.extend(yhat.tolist())\n",
    "        i=i+1\n",
    "\n",
    "# print(lst_output)"
   ]
  },
  {
   "cell_type": "code",
   "execution_count": null,
   "id": "2470c957-a2c4-439b-83bb-7bae2118ccac",
   "metadata": {},
   "outputs": [],
   "source": []
  }
 ],
 "metadata": {
  "kernelspec": {
   "display_name": "Python 3 (ipykernel)",
   "language": "python",
   "name": "python3"
  },
  "language_info": {
   "codemirror_mode": {
    "name": "ipython",
    "version": 3
   },
   "file_extension": ".py",
   "mimetype": "text/x-python",
   "name": "python",
   "nbconvert_exporter": "python",
   "pygments_lexer": "ipython3",
   "version": "3.10.13"
  }
 },
 "nbformat": 4,
 "nbformat_minor": 5
}
